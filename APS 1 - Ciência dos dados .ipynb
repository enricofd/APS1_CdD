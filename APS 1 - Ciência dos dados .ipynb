{
 "cells": [
  {
   "cell_type": "markdown",
   "metadata": {},
   "source": [
    "# Ciência dos dados - Projeto 1 \n"
   ]
  },
  {
   "cell_type": "markdown",
   "metadata": {},
   "source": [
    "Enrico Francesco Damiani - Engenharia B"
   ]
  },
  {
   "cell_type": "markdown",
   "metadata": {},
   "source": [
    "# Pergunta: \n",
    "A Inglaterra foi financeiramente lezada ao entrar na União Européia?"
   ]
  },
  {
   "cell_type": "markdown",
   "metadata": {},
   "source": [
    "# Hipótese e mecanismo:\n",
    "\n",
    "A entrada do Reino Unido na União Europeia teria sido financeiramnte benéfica para esse em seus primeiros anos como mebro. Para comprovar essa hipótese será comparado no ano de entrada desse o PIB, o crescimento do PIB percaita, as Exportações e Importações com países que ja estavam presentes no bloco e com paíes que nunca adentraram nesse. Além disso, para assegurar a hipótese também será comparado com países que adentraram em períodos futuros na União esses mesmos indicadores em seus respctivos anos."
   ]
  },
  {
   "cell_type": "markdown",
   "metadata": {},
   "source": [
    "# Bases de dados usadas"
   ]
  },
  {
   "cell_type": "markdown",
   "metadata": {},
   "source": [
    "https://www.gapminder.org/data/ - acesso em 18/08/2019 às 20:00"
   ]
  },
  {
   "cell_type": "markdown",
   "metadata": {},
   "source": [
    "# Introdução:\n",
    "\n"
   ]
  },
  {
   "cell_type": "markdown",
   "metadata": {},
   "source": [
    "# Análise de dados: \n"
   ]
  },
  {
   "cell_type": "markdown",
   "metadata": {},
   "source": [
    "Importando bibliotecas:"
   ]
  },
  {
   "cell_type": "code",
   "execution_count": 98,
   "metadata": {},
   "outputs": [],
   "source": [
    "%matplotlib inline\n",
    "import pandas as pd\n",
    "import numpy as np\n",
    "import math as math\n",
    "from scipy import stats\n",
    "import matplotlib.pyplot as plt\n",
    "\n"
   ]
  },
  {
   "cell_type": "markdown",
   "metadata": {},
   "source": [
    "Leitura dos arquivos Excel:"
   ]
  },
  {
   "cell_type": "code",
   "execution_count": 99,
   "metadata": {},
   "outputs": [],
   "source": [
    "#Leitura dos arquivos em Excel\n",
    "ExportsA = pd.read_excel('Exports (p of GDP).xlsx')\n",
    "ImportsA = pd.read_excel('Imports (p of GDP).xlsx')\n",
    "GDPA = pd.read_excel('indicator GDP at market prices, constant 2000 US$ (WB estimates) .xls (1).xlsx')\n",
    "GDPperCgA = pd.read_excel('indicatorwdigdp_percapita_growth.xlsx')\n"
   ]
  },
  {
   "cell_type": "markdown",
   "metadata": {},
   "source": [
    "Substituindo os indíces numérico pelos nomes dos países:"
   ]
  },
  {
   "cell_type": "code",
   "execution_count": 100,
   "metadata": {},
   "outputs": [],
   "source": [
    "ExportsB = ExportsA.set_index('Exports of goods and services (% of GDP)')\n",
    "ImportsB = ImportsA.set_index('Imports of goods and services (% of GDP)')\n",
    "GDPB = GDPA.set_index('GDP (constant 2000 US$)')\n",
    "GDPperCgB = GDPperCgA.set_index('GDP per capita growth (annual %)')\n",
    "\n"
   ]
  },
  {
   "cell_type": "markdown",
   "metadata": {},
   "source": [
    "Selecionando o período de estudo, 1970 até 2010: "
   ]
  },
  {
   "cell_type": "code",
   "execution_count": 101,
   "metadata": {},
   "outputs": [],
   "source": [
    "ExportsF = ExportsB[ExportsB.columns[9:50]]\n",
    "ImportsF = ImportsB[ImportsB.columns[10:51]]\n",
    "GDPF = GDPB[GDPB.columns[9:50]]\n",
    "GDPperCgF = GDPperCgB[GDPperCgB.columns[10:51]]\n",
    "\n"
   ]
  },
  {
   "cell_type": "markdown",
   "metadata": {},
   "source": [
    "Selecionando os dados completamente preenchidos:"
   ]
  },
  {
   "cell_type": "code",
   "execution_count": 102,
   "metadata": {},
   "outputs": [],
   "source": [
    "Exports = ExportsF.dropna(axis = \"index\" , how = \"any\") \n",
    "Imports = ImportsF.dropna(axis = \"index\" , how = \"any\") \n",
    "GDP = GDPF.dropna(axis = \"index\" , how = \"any\") \n",
    "GDPperCg = GDPperCgF.dropna(axis = \"index\" , how = \"any\") \n"
   ]
  },
  {
   "cell_type": "markdown",
   "metadata": {},
   "source": [
    "Selecionando os países a serem estudados e comparados:"
   ]
  },
  {
   "cell_type": "code",
   "execution_count": 103,
   "metadata": {},
   "outputs": [
    {
     "name": "stderr",
     "output_type": "stream",
     "text": [
      "C:\\Users\\Enrico Damiani\\Anaconda3\\lib\\site-packages\\ipykernel_launcher.py:3: FutureWarning: \n",
      "Passing list-likes to .loc or [] with any missing label will raise\n",
      "KeyError in the future, you can use .reindex() as an alternative.\n",
      "\n",
      "See the documentation here:\n",
      "https://pandas.pydata.org/pandas-docs/stable/indexing.html#deprecate-loc-reindex-listlike\n",
      "  This is separate from the ipykernel package so we can avoid doing imports until\n",
      "C:\\Users\\Enrico Damiani\\Anaconda3\\lib\\site-packages\\ipykernel_launcher.py:4: FutureWarning: \n",
      "Passing list-likes to .loc or [] with any missing label will raise\n",
      "KeyError in the future, you can use .reindex() as an alternative.\n",
      "\n",
      "See the documentation here:\n",
      "https://pandas.pydata.org/pandas-docs/stable/indexing.html#deprecate-loc-reindex-listlike\n",
      "  after removing the cwd from sys.path.\n"
     ]
    }
   ],
   "source": [
    "ExportsC = Exports.loc[['Germany','Italy','Spain', 'Portugal', 'France', 'United Kingdom', 'United States']]\n",
    "ImportsC = Imports.loc[['Germany','Italy','Spain', 'Portugal', 'France', 'United Kingdom', 'United States']]\n",
    "GDPC = GDP.loc[['Germany','Italy','Spain', 'Portugal', 'France', 'United Kingdom', 'United States']]\n",
    "GDPperCgC = GDPperCg.loc[['Germany','Italy','Spain', 'Portugal', 'France', 'United Kingdom', 'United States']]"
   ]
  },
  {
   "cell_type": "markdown",
   "metadata": {},
   "source": [
    "Comparando a entrada de paises na União Européia:"
   ]
  },
  {
   "cell_type": "markdown",
   "metadata": {},
   "source": [
    "Para o Reino Unido:"
   ]
  },
  {
   "cell_type": "code",
   "execution_count": 104,
   "metadata": {},
   "outputs": [],
   "source": [
    "ExportsCUK = ExportsC.loc['United Kingdom' , '1973']\n",
    "ImportsCUK = ImportsC.loc['United Kingdom', '1973']\n",
    "GDPCUK = GDPC.loc['United Kingdom', 1973]\n",
    "GDPperCgCUK = GDPperCgC.loc['United Kingdom', '1973']\n",
    "\n",
    "ExportsCUKD = ExportsC.loc['United Kingdom', '1990']\n",
    "ImportsCUKD = ImportsC.loc['United Kingdom', '1990']\n",
    "GDPCUKD = GDPC.loc['United Kingdom', 1990]\n",
    "GDPperCgCUKD = GDPperCgC.loc['United Kingdom', '1990']\n"
   ]
  },
  {
   "cell_type": "markdown",
   "metadata": {},
   "source": [
    "Para Porugal e Espanha:"
   ]
  },
  {
   "cell_type": "code",
   "execution_count": 105,
   "metadata": {
    "scrolled": true
   },
   "outputs": [],
   "source": [
    "ExportsCP = ExportsC.loc['Portugal', '1986']\n",
    "ImportsCP = ImportsC.loc['Portugal', '1986']\n",
    "GDPCP = GDPC.loc['Portugal', 1986]\n",
    "GDPperCgCP = GDPperCgC.loc['Portugal', '1986']\n",
    "\n",
    "\n",
    "ExportsCS = ExportsC.loc['Spain', '1986']\n",
    "ImportsCS = ImportsC.loc['Spain', '1986']\n",
    "GDPCS = GDPC.loc['Spain', 1986]\n",
    "GDPperCgCS = GDPperCgC.loc['Spain', '1986']\n",
    "\n",
    "ExportsCPD = ExportsC.loc['Portugal', '1990']\n",
    "ImportsCPD = ImportsC.loc['Portugal', '1990']\n",
    "GDPCPD = GDPC.loc['Portugal', 1990]\n",
    "GDPperCgCPD = GDPperCgC.loc['Portugal', '1990']\n",
    "\n",
    "\n",
    "ExportsCSD = ExportsC.loc['Spain', '1990']\n",
    "ImportsCSD = ImportsC.loc['Spain', '1990']\n",
    "GDPCSD = GDPC.loc['Spain', 1990]\n",
    "GDPperCgCSD = GDPperCgC.loc['Spain', '1990']\n",
    "\n"
   ]
  },
  {
   "cell_type": "markdown",
   "metadata": {},
   "source": [
    "Comparando  a Porcentagem do PIB representado em exportações no ano de entrada na União Europeia:"
   ]
  },
  {
   "cell_type": "code",
   "execution_count": 106,
   "metadata": {
    "scrolled": true
   },
   "outputs": [],
   "source": [
    "data1 = {'Porcentagem do PIB em exportações no ano de entrada na União Europeia': [ExportsCUK, ExportsCP, ExportsCS]}\n",
    "Exp1 = pd.DataFrame(data1, index = ['Reino Unido', 'Portugal', 'Espanha'])\n"
   ]
  },
  {
   "cell_type": "markdown",
   "metadata": {},
   "source": [
    "Comparando  a Porcentagem do PIB representado em importações no ano de entrada na União Europeia:"
   ]
  },
  {
   "cell_type": "code",
   "execution_count": 107,
   "metadata": {
    "scrolled": true
   },
   "outputs": [],
   "source": [
    "data2 = {'Porcentagem do PIB em importações no ano de entrada na União Europeia': [ImportsCUK, ImportsCP, ImportsCS]}\n",
    "Exp2 = pd.DataFrame(data2, index = ['Reino Unido', 'Portugal', 'Espanha'])\n"
   ]
  },
  {
   "cell_type": "markdown",
   "metadata": {},
   "source": [
    "Comparando o PIB no ano de entrada na União Europeia:  "
   ]
  },
  {
   "cell_type": "code",
   "execution_count": 108,
   "metadata": {
    "scrolled": true
   },
   "outputs": [],
   "source": [
    "data3 = {'PIB no ano de entrada na União Europeia': [GDPCUK, GDPCP , GDPCS]}\n",
    "Exp3 = pd.DataFrame (data3, index = ['Reino Unido', 'Portugal', 'Espanha'])\n"
   ]
  },
  {
   "cell_type": "markdown",
   "metadata": {},
   "source": [
    "Comparando o PIB percapita no ano de entrada na União Europeia:"
   ]
  },
  {
   "cell_type": "code",
   "execution_count": 119,
   "metadata": {},
   "outputs": [],
   "source": [
    "data4 = {'Crescimento do PIB percapita no ano de entrada na União Europeia': [GDPperCgCUK, GDPperCgCP , GDPperCgCS]}\n",
    "Exp4 = pd.DataFrame (data4, index = ['Reino Unido', 'Portugal', 'Espanha'])\n"
   ]
  },
  {
   "cell_type": "markdown",
   "metadata": {},
   "source": [
    "Comparando  a Porcentagem do PIB representado em exportações no ano de 1990:"
   ]
  },
  {
   "cell_type": "code",
   "execution_count": 110,
   "metadata": {},
   "outputs": [],
   "source": [
    "data5 = {'Porcentagem do PIB em exportações no ano de 1990': [ExportsCUKD, ExportsCPD, ExportsCSD]}\n",
    "Exp5 = pd.DataFrame(data5, index = ['Reino Unido', 'Portugal', 'Espanha'])\n"
   ]
  },
  {
   "cell_type": "markdown",
   "metadata": {},
   "source": [
    "Comparando a Porcentagem do PIB representado em importações no ano de 1990:"
   ]
  },
  {
   "cell_type": "code",
   "execution_count": 111,
   "metadata": {},
   "outputs": [],
   "source": [
    "data6 = {'Porcentagem do PIB em importações no ano de 1990': [ImportsCUKD, ImportsCPD, ImportsCSD]}\n",
    "Exp6 = pd.DataFrame(data6, index = ['Reino Unido', 'Portugal', 'Espanha'])\n"
   ]
  },
  {
   "cell_type": "markdown",
   "metadata": {},
   "source": [
    "Comparando o PIB no ano de 1990:  "
   ]
  },
  {
   "cell_type": "code",
   "execution_count": null,
   "metadata": {},
   "outputs": [],
   "source": [
    "data7 = {'PIB no ano de 1990': [GDPCUKD, GDPCPD , GDPCSD]}\n",
    "Exp7 = pd.DataFrame (data7, index = ['Reino Unido', 'Portugal', 'Espanha'])\n"
   ]
  },
  {
   "cell_type": "code",
   "execution_count": null,
   "metadata": {},
   "outputs": [],
   "source": [
    "Comparando o PIB percapita no ano de 1990:"
   ]
  },
  {
   "cell_type": "code",
   "execution_count": 118,
   "metadata": {},
   "outputs": [],
   "source": [
    "data8 = {'Crescimento do PIB percapita no ano de 1990': [GDPperCgCUKD, GDPperCgCPD , GDPperCgCSD]}\n",
    "Exp8 = pd.DataFrame (data8, index = ['Reino Unido', 'Portugal', 'Espanha'])"
   ]
  },
  {
   "cell_type": "markdown",
   "metadata": {},
   "source": [
    "Comparação entre os anos de entra e 1990:"
   ]
  },
  {
   "cell_type": "code",
   "execution_count": 113,
   "metadata": {},
   "outputs": [],
   "source": [
    "Comp1 = Exp1.join(Exp5, how=\"inner\")\n",
    "Comp2 = Exp2.join(Exp6, how=\"inner\")\n",
    "Comp3 = Exp3.join(Exp7, how=\"inner\")\n",
    "Comp4 = Exp4.join(Exp8, how=\"inner\")\n"
   ]
  },
  {
   "cell_type": "code",
   "execution_count": 114,
   "metadata": {},
   "outputs": [
    {
     "data": {
      "text/html": [
       "<div>\n",
       "<style scoped>\n",
       "    .dataframe tbody tr th:only-of-type {\n",
       "        vertical-align: middle;\n",
       "    }\n",
       "\n",
       "    .dataframe tbody tr th {\n",
       "        vertical-align: top;\n",
       "    }\n",
       "\n",
       "    .dataframe thead th {\n",
       "        text-align: right;\n",
       "    }\n",
       "</style>\n",
       "<table border=\"1\" class=\"dataframe\">\n",
       "  <thead>\n",
       "    <tr style=\"text-align: right;\">\n",
       "      <th></th>\n",
       "      <th>Porcentagem do PIB em exportações no ano de entrada na União Europeia</th>\n",
       "      <th>Porcentagem do PIB em exportações no ano de 1990</th>\n",
       "    </tr>\n",
       "  </thead>\n",
       "  <tbody>\n",
       "    <tr>\n",
       "      <th>Reino Unido</th>\n",
       "      <td>23.094387</td>\n",
       "      <td>23.950039</td>\n",
       "    </tr>\n",
       "    <tr>\n",
       "      <th>Portugal</th>\n",
       "      <td>26.382050</td>\n",
       "      <td>29.603621</td>\n",
       "    </tr>\n",
       "    <tr>\n",
       "      <th>Espanha</th>\n",
       "      <td>18.661920</td>\n",
       "      <td>16.126267</td>\n",
       "    </tr>\n",
       "  </tbody>\n",
       "</table>\n",
       "</div>"
      ],
      "text/plain": [
       "             Porcentagem do PIB em exportações no ano de entrada na União Europeia  \\\n",
       "Reino Unido                                          23.094387                       \n",
       "Portugal                                             26.382050                       \n",
       "Espanha                                              18.661920                       \n",
       "\n",
       "             Porcentagem do PIB em exportações no ano de 1990  \n",
       "Reino Unido                                         23.950039  \n",
       "Portugal                                            29.603621  \n",
       "Espanha                                             16.126267  "
      ]
     },
     "execution_count": 114,
     "metadata": {},
     "output_type": "execute_result"
    }
   ],
   "source": [
    "Comp1"
   ]
  },
  {
   "cell_type": "code",
   "execution_count": 115,
   "metadata": {},
   "outputs": [
    {
     "data": {
      "text/html": [
       "<div>\n",
       "<style scoped>\n",
       "    .dataframe tbody tr th:only-of-type {\n",
       "        vertical-align: middle;\n",
       "    }\n",
       "\n",
       "    .dataframe tbody tr th {\n",
       "        vertical-align: top;\n",
       "    }\n",
       "\n",
       "    .dataframe thead th {\n",
       "        text-align: right;\n",
       "    }\n",
       "</style>\n",
       "<table border=\"1\" class=\"dataframe\">\n",
       "  <thead>\n",
       "    <tr style=\"text-align: right;\">\n",
       "      <th></th>\n",
       "      <th>Porcentagem do PIB em importações no ano de entrada na União Europeia</th>\n",
       "      <th>Porcentagem do PIB em importações no ano de 1990</th>\n",
       "    </tr>\n",
       "  </thead>\n",
       "  <tbody>\n",
       "    <tr>\n",
       "      <th>Reino Unido</th>\n",
       "      <td>25.256924</td>\n",
       "      <td>26.065480</td>\n",
       "    </tr>\n",
       "    <tr>\n",
       "      <th>Portugal</th>\n",
       "      <td>28.663528</td>\n",
       "      <td>36.703821</td>\n",
       "    </tr>\n",
       "    <tr>\n",
       "      <th>Espanha</th>\n",
       "      <td>16.726750</td>\n",
       "      <td>19.395145</td>\n",
       "    </tr>\n",
       "  </tbody>\n",
       "</table>\n",
       "</div>"
      ],
      "text/plain": [
       "             Porcentagem do PIB em importações no ano de entrada na União Europeia  \\\n",
       "Reino Unido                                          25.256924                       \n",
       "Portugal                                             28.663528                       \n",
       "Espanha                                              16.726750                       \n",
       "\n",
       "             Porcentagem do PIB em importações no ano de 1990  \n",
       "Reino Unido                                         26.065480  \n",
       "Portugal                                            36.703821  \n",
       "Espanha                                             19.395145  "
      ]
     },
     "execution_count": 115,
     "metadata": {},
     "output_type": "execute_result"
    }
   ],
   "source": [
    "Comp2"
   ]
  },
  {
   "cell_type": "code",
   "execution_count": 116,
   "metadata": {},
   "outputs": [
    {
     "data": {
      "text/html": [
       "<div>\n",
       "<style scoped>\n",
       "    .dataframe tbody tr th:only-of-type {\n",
       "        vertical-align: middle;\n",
       "    }\n",
       "\n",
       "    .dataframe tbody tr th {\n",
       "        vertical-align: top;\n",
       "    }\n",
       "\n",
       "    .dataframe thead th {\n",
       "        text-align: right;\n",
       "    }\n",
       "</style>\n",
       "<table border=\"1\" class=\"dataframe\">\n",
       "  <thead>\n",
       "    <tr style=\"text-align: right;\">\n",
       "      <th></th>\n",
       "      <th>PIB no ano de entrada na União Europeia</th>\n",
       "      <th>PIB no ano de 1990</th>\n",
       "    </tr>\n",
       "  </thead>\n",
       "  <tbody>\n",
       "    <tr>\n",
       "      <th>Reino Unido</th>\n",
       "      <td>7.901366e+11</td>\n",
       "      <td>1.108373e+12</td>\n",
       "    </tr>\n",
       "    <tr>\n",
       "      <th>Portugal</th>\n",
       "      <td>6.921517e+10</td>\n",
       "      <td>8.757207e+10</td>\n",
       "    </tr>\n",
       "    <tr>\n",
       "      <th>Espanha</th>\n",
       "      <td>3.649389e+11</td>\n",
       "      <td>4.403911e+11</td>\n",
       "    </tr>\n",
       "  </tbody>\n",
       "</table>\n",
       "</div>"
      ],
      "text/plain": [
       "             PIB no ano de entrada na União Europeia  PIB no ano de 1990\n",
       "Reino Unido                             7.901366e+11        1.108373e+12\n",
       "Portugal                                6.921517e+10        8.757207e+10\n",
       "Espanha                                 3.649389e+11        4.403911e+11"
      ]
     },
     "execution_count": 116,
     "metadata": {},
     "output_type": "execute_result"
    }
   ],
   "source": [
    "Comp3"
   ]
  },
  {
   "cell_type": "code",
   "execution_count": 117,
   "metadata": {},
   "outputs": [
    {
     "data": {
      "text/html": [
       "<div>\n",
       "<style scoped>\n",
       "    .dataframe tbody tr th:only-of-type {\n",
       "        vertical-align: middle;\n",
       "    }\n",
       "\n",
       "    .dataframe tbody tr th {\n",
       "        vertical-align: top;\n",
       "    }\n",
       "\n",
       "    .dataframe thead th {\n",
       "        text-align: right;\n",
       "    }\n",
       "</style>\n",
       "<table border=\"1\" class=\"dataframe\">\n",
       "  <thead>\n",
       "    <tr style=\"text-align: right;\">\n",
       "      <th></th>\n",
       "      <th>crescimento do PIB percapita no ano de entrada na União Europeia</th>\n",
       "      <th>crescimento do PIB percapita no ano de 1990</th>\n",
       "    </tr>\n",
       "  </thead>\n",
       "  <tbody>\n",
       "    <tr>\n",
       "      <th>Reino Unido</th>\n",
       "      <td>6.921121</td>\n",
       "      <td>0.478470</td>\n",
       "    </tr>\n",
       "    <tr>\n",
       "      <th>Portugal</th>\n",
       "      <td>4.046279</td>\n",
       "      <td>4.177329</td>\n",
       "    </tr>\n",
       "    <tr>\n",
       "      <th>Espanha</th>\n",
       "      <td>2.940365</td>\n",
       "      <td>3.623888</td>\n",
       "    </tr>\n",
       "  </tbody>\n",
       "</table>\n",
       "</div>"
      ],
      "text/plain": [
       "             crescimento do PIB percapita no ano de entrada na União Europeia  \\\n",
       "Reino Unido                                           6.921121                  \n",
       "Portugal                                              4.046279                  \n",
       "Espanha                                               2.940365                  \n",
       "\n",
       "             crescimento do PIB percapita no ano de 1990  \n",
       "Reino Unido                                     0.478470  \n",
       "Portugal                                        4.177329  \n",
       "Espanha                                         3.623888  "
      ]
     },
     "execution_count": 117,
     "metadata": {},
     "output_type": "execute_result"
    }
   ],
   "source": [
    "Comp4"
   ]
  },
  {
   "cell_type": "markdown",
   "metadata": {},
   "source": [
    "Comparando com os fundadores do bloco que ja estavam presentes no período de entrada do Reino Unido:"
   ]
  },
  {
   "cell_type": "code",
   "execution_count": null,
   "metadata": {},
   "outputs": [],
   "source": [
    "ExportsCG = ExportsC.loc['Germany', '1973']\n",
    "ImportsCG = ImportsC.loc['Germany', '1973']\n",
    "GDPCG = GDPC.loc['Germany', 1973]\n",
    "GDPperCgCG = GDPperCgC.loc['Germany', '1973']\n",
    "\n",
    "ExportsCF = ExportsC.loc['France', '1973']\n",
    "ImportsCF = ImportsC.loc['France', '1973']\n",
    "GDPCF = GDPC.loc['France', 1973]\n",
    "GDPperCgCF = GDPperCgC.loc['France', '1973']\n",
    "\n",
    "ExportsCI = ExportsC.loc['Italy', '1973']\n",
    "ImportsCI = ImportsC.loc['Italy', '1973']\n",
    "GDPCI= GDPC.loc['Italy', 1973]\n",
    "GDPperCgCI = GDPperCgC.loc['Italy', '1973']\n",
    "\n",
    "\n",
    "ExportsCGD = ExportsC.loc['Germany', '1990']\n",
    "ImportsCGD = ImportsC.loc['Germany', '1990']\n",
    "GDPCGD = GDPC.loc['Germany', 1990]\n",
    "GDPperCgCGD = GDPperCgC.loc['Germany', '1990']\n",
    "\n",
    "ExportsCFD = ExportsC.loc['France', '1990']\n",
    "ImportsCFD = ImportsC.loc['France', '1990']\n",
    "GDPCFD = GDPC.loc['France', 1990]\n",
    "GDPperCgCFD = GDPperCgC.loc['France', '1990']\n",
    "\n",
    "ExportsCID = ExportsC.loc['Italy', '1990']\n",
    "ImportsCID = ImportsC.loc['Italy', '1990']\n",
    "GDPCID = GDPC.loc['Italy', 1990]\n",
    "GDPperCgCID = GDPperCgC.loc['Italy', '1990']"
   ]
  },
  {
   "cell_type": "markdown",
   "metadata": {},
   "source": [
    "Comparando com um país não participante do bloco:"
   ]
  },
  {
   "cell_type": "code",
   "execution_count": null,
   "metadata": {},
   "outputs": [],
   "source": [
    "ExportsCUS = ExportsC.loc['United States', '1973']\n",
    "ImportsCUS = ImportsC.loc['United States', '1973']\n",
    "GDPCUS = GDPC.loc['United States', 1973]\n",
    "GDPperCgCUS = GDPperCgC.loc['United States', '1973']\n",
    "\n",
    "ExportsCUS = ExportsC.loc['United States', '1990']\n",
    "ImportsCUS = ImportsC.loc['United States', '1990']\n",
    "GDPCUS = GDPC.loc['United States', 1990]\n",
    "GDPperCgCUS = GDPperCgC.loc['United States', '1990']\n",
    "\n"
   ]
  },
  {
   "cell_type": "markdown",
   "metadata": {},
   "source": [
    "# Conclusão:\n"
   ]
  },
  {
   "cell_type": "code",
   "execution_count": null,
   "metadata": {},
   "outputs": [],
   "source": []
  },
  {
   "cell_type": "code",
   "execution_count": null,
   "metadata": {},
   "outputs": [],
   "source": []
  }
 ],
 "metadata": {
  "kernelspec": {
   "display_name": "Python 3",
   "language": "python",
   "name": "python3"
  },
  "language_info": {
   "codemirror_mode": {
    "name": "ipython",
    "version": 3
   },
   "file_extension": ".py",
   "mimetype": "text/x-python",
   "name": "python",
   "nbconvert_exporter": "python",
   "pygments_lexer": "ipython3",
   "version": "3.7.3"
  }
 },
 "nbformat": 4,
 "nbformat_minor": 2
}
